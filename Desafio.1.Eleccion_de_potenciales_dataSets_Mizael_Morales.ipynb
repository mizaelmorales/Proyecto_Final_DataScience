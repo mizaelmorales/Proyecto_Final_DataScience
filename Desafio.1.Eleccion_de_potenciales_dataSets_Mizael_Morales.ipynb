{
 "cells": [
  {
   "attachments": {},
   "cell_type": "markdown",
   "metadata": {},
   "source": [
    "Desafío 1 - Elección de Potenciales Datasets e Importación a Librería:"
   ]
  },
  {
   "attachments": {},
   "cell_type": "markdown",
   "metadata": {},
   "source": [
    "Consigna:\n",
    "\n",
    "\n",
    "-Identificar 3 datasets que cumplan con las siguientes condiciones: a) al menos 2000 filas y b) al menos 15 columnas. \n",
    "\n",
    "-Pueden buscar en las siguientes fuentes: GitLab, Github, Kaggle, Google Dataset Search (Si desean trabajar con un archivo propio se puede también).\n",
    "\n",
    "-Describir las variables potencialmente interesantes en cada archivo teniendo en cuenta el contexto comercial y analitico involucrado\n"
   ]
  },
  {
   "cell_type": "code",
   "execution_count": 10,
   "metadata": {},
   "outputs": [],
   "source": [
    "#Imports Basicos\n",
    "import pandas as pd"
   ]
  },
  {
   "attachments": {},
   "cell_type": "markdown",
   "metadata": {},
   "source": [
    "A) DataSet para Predicción de aprobación de tarjetas de crédito:\n",
    "\n",
    "Fuente:https://www.kaggle.com/datasets/rikdifos/credit-card-approval-prediction\n",
    "\n",
    "DataSets:\n",
    "\n",
    "Tiene dos tablas que pueden ser combinadas por ID\n",
    "\n",
    "URL de los dataSets\n",
    "\n",
    "https://github.com/mizaelmorales/Proyecto_Final_DataScience/tree/main/DataSets/Prediccion_de_aprobacion_de_tarjetas_de_credito\n",
    "\n",
    "\n",
    "Contexto:\n",
    "\n",
    "Las tarjetas de puntuación de crédito son un método común de control de riesgos en la industria financiera. Utiliza la información personal y los datos presentados por los solicitantes de tarjetas de crédito para predecir la probabilidad de futuros incumplimientos y préstamos de tarjetas de crédito. El banco puede decidir si emite una tarjeta de crédito al solicitante. Los puntajes de crédito pueden cuantificar objetivamente la magnitud del riesgo.\n",
    " \n",
    "\n",
    "Descripcion y Objetivo:\n",
    "\n",
    "En términos generales, las tarjetas de puntuación de crédito se basan en datos históricos. Una vez que se encuentra con grandes fluctuaciones económicas deben aplicarse modelos que puedan aumentar su poder predictivo.\n",
    "\n",
    "en este data set a diferencia de otras tareas se tienes varios retos : no se proporciona la definición de \"bueno\" o \"malo\" por lo cual Debe usar alguna técnica, como el análisis vintage para construir su etiqueta. Además, el problema de desequilibrio de datos es un gran reto en esta tarea, el objetivo es lograr predecir si un cliente es bueno o malo para optar para una tarjeta de credito.\n",
    "\n"
   ]
  },
  {
   "cell_type": "code",
   "execution_count": 11,
   "metadata": {},
   "outputs": [],
   "source": [
    "#Validaciones Previas del dataSet\n",
    "\n",
    "url_Prediccion_Aprobacion_TDC_Application_Record = 'https://raw.githubusercontent.com/mizaelmorales/Proyecto_Final_DataScience/main/DataSets/Prediccion_de_aprobacion_de_tarjetas_de_credito/application_record.csv'\n",
    "url_Prediccion_Aprobacion_TDC_Credit_Record = 'https://raw.githubusercontent.com/mizaelmorales/Proyecto_Final_DataScience/main/DataSets/Prediccion_de_aprobacion_de_tarjetas_de_credito/credit_record.csv'\n",
    "application_Record = pd.read_csv(url_Prediccion_Aprobacion_TDC_Application_Record)\n",
    "Credit_Record = pd.read_csv(url_Prediccion_Aprobacion_TDC_Credit_Record) \n",
    "\n",
    "#Union\n",
    "df_Prediccion_Aprobacion_TDC = application_Record.merge(Credit_Record, on=['ID'], how='inner')\n",
    "#Limpieza\n",
    "df_Prediccion_Aprobacion_TDC.drop(['ID'],inplace=True,axis=1)\n"
   ]
  },
  {
   "cell_type": "code",
   "execution_count": null,
   "metadata": {},
   "outputs": [],
   "source": [
    "#Duplicados\n",
    "df_Prediccion_Aprobacion_TDC.duplicated().sum()\n"
   ]
  },
  {
   "cell_type": "code",
   "execution_count": null,
   "metadata": {},
   "outputs": [],
   "source": [
    "#Duplicados Limpieza\n",
    "df_Prediccion_Aprobacion_TDC.drop_duplicates(inplace=True)\n"
   ]
  },
  {
   "cell_type": "code",
   "execution_count": null,
   "metadata": {},
   "outputs": [],
   "source": [
    "\n",
    "#Info\n",
    "df_Prediccion_Aprobacion_TDC.info()\n"
   ]
  },
  {
   "cell_type": "code",
   "execution_count": null,
   "metadata": {},
   "outputs": [],
   "source": [
    "#Describe\n",
    "df_Prediccion_Aprobacion_TDC.describe()\n"
   ]
  },
  {
   "cell_type": "code",
   "execution_count": null,
   "metadata": {},
   "outputs": [],
   "source": [
    "#Validacion de nulls\n",
    "df_Prediccion_Aprobacion_TDC.isna().sum()"
   ]
  },
  {
   "attachments": {},
   "cell_type": "markdown",
   "metadata": {},
   "source": [
    "B)DataSet Ventas de videojuegos con calificaciones:\n",
    "\n",
    "Fuente:https://www.kaggle.com/datasets/rush4ratio/video-game-sales-with-ratings\n",
    "\n",
    "DataSets:\n",
    "\n",
    "Tiene dos tablas que pueden ser combinadas por ID\n",
    "\n",
    "URL de los dataSets\n",
    "\n",
    "https://github.com/mizaelmorales/Proyecto_Final_DataScience/tree/main/DataSets/Prediccion_de_aprobacion_de_tarjetas_de_credito\n",
    "\n",
    "\n",
    "Contexto:\n",
    "\n",
    "Las tarjetas de puntuación de crédito son un método común de control de riesgos en la industria financiera. Utiliza la información personal y los datos presentados por los solicitantes de tarjetas de crédito para predecir la probabilidad de futuros incumplimientos y préstamos de tarjetas de crédito. El banco puede decidir si emite una tarjeta de crédito al solicitante. Los puntajes de crédito pueden cuantificar objetivamente la magnitud del riesgo.\n",
    " \n",
    "\n",
    "Descripcion y Objetivo:\n",
    "\n",
    "En términos generales, las tarjetas de puntuación de crédito se basan en datos históricos. Una vez que se encuentra con grandes fluctuaciones económicas deben aplicarse modelos que puedan aumentar su poder predictivo.\n",
    "\n",
    "en este data set a diferencia de otras tareas se tienes varios retos : no se proporciona la definición de \"bueno\" o \"malo\" por lo cual Debe usar alguna técnica, como el análisis vintage para construir su etiqueta. Además, el problema de desequilibrio de datos es un gran reto en esta tarea, el objetivo es lograr predecir si un cliente es bueno o malo para optar para una tarjeta de credito."
   ]
  }
 ],
 "metadata": {
  "kernelspec": {
   "display_name": "Python 3",
   "language": "python",
   "name": "python3"
  },
  "language_info": {
   "codemirror_mode": {
    "name": "ipython",
    "version": 3
   },
   "file_extension": ".py",
   "mimetype": "text/x-python",
   "name": "python",
   "nbconvert_exporter": "python",
   "pygments_lexer": "ipython3",
   "version": "3.10.8"
  },
  "orig_nbformat": 4
 },
 "nbformat": 4,
 "nbformat_minor": 2
}
